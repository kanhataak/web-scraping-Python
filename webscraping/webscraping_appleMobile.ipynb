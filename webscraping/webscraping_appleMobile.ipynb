{
 "cells": [
  {
   "cell_type": "code",
   "execution_count": 1,
   "metadata": {},
   "outputs": [],
   "source": [
    "from bs4 import BeautifulSoup\n",
    "from urllib.request import urlopen"
   ]
  },
  {
   "cell_type": "code",
   "execution_count": 2,
   "metadata": {},
   "outputs": [],
   "source": [
    "apple_url =\"https://bit.ly/2PpgF15\""
   ]
  },
  {
   "cell_type": "code",
   "execution_count": 3,
   "metadata": {},
   "outputs": [],
   "source": [
    "url_req=urlopen(apple_url)\n",
    "html_page=url_req.read()\n",
    "url_req.close()\n"
   ]
  },
  {
   "cell_type": "code",
   "execution_count": 4,
   "metadata": {},
   "outputs": [],
   "source": [
    "page_soup = BeautifulSoup(html_page,\"html.parser\")"
   ]
  },
  {
   "cell_type": "code",
   "execution_count": 5,
   "metadata": {},
   "outputs": [
    {
     "name": "stdout",
     "output_type": "stream",
     "text": [
      "24\n"
     ]
    }
   ],
   "source": [
    "mobiles = page_soup.find_all('div',{'class':\"_3O0U0u\"})\n",
    "print(len(mobiles))"
   ]
  },
  {
   "cell_type": "code",
   "execution_count": 12,
   "metadata": {},
   "outputs": [],
   "source": [
    "Mobile=mobiles[0]\n",
    "# print(Mobile)"
   ]
  },
  {
   "cell_type": "code",
   "execution_count": 7,
   "metadata": {},
   "outputs": [
    {
     "name": "stdout",
     "output_type": "stream",
     "text": [
      "Apple iPhone 7 (Black, 32 GB)\n"
     ]
    }
   ],
   "source": [
    "name = Mobile.find_all(\"div\",{'class':'_3wU53n'})\n",
    "print(name[0].text)"
   ]
  },
  {
   "cell_type": "code",
   "execution_count": 8,
   "metadata": {},
   "outputs": [
    {
     "name": "stdout",
     "output_type": "stream",
     "text": [
      "₹27,999\n"
     ]
    }
   ],
   "source": [
    "price=Mobile.find_all('div',{'class':'_1vC4OE _2rQ-NK'})\n",
    "print(price[0].text)"
   ]
  },
  {
   "cell_type": "code",
   "execution_count": 9,
   "metadata": {},
   "outputs": [
    {
     "name": "stdout",
     "output_type": "stream",
     "text": [
      "4.5\n"
     ]
    }
   ],
   "source": [
    "rating=Mobile.findAll('div',{'class':'hGSR34'})\n",
    "print(rating[0].text)"
   ]
  },
  {
   "cell_type": "code",
   "execution_count": 10,
   "metadata": {},
   "outputs": [
    {
     "name": "stdout",
     "output_type": "stream",
     "text": [
      "╒════════════════════════════════════════════════════════╤══════════╤════════╤══════════╕\n",
      "│ Name                                                   │ Price    │ Rating │ Warranty │\n",
      "├────────────────────────────────────────────────────────┼──────────┼────────┼──────────┤\n",
      "│ Apple iPhone 7 (Black, 32 GB)                          │ Rs.27999 │ 4.5    │ -        │\n",
      "├────────────────────────────────────────────────────────┼──────────┼────────┼──────────┤\n",
      "│ Apple iPhone 7 (Gold, 32 GB)                           │ Rs.27999 │ 4.5    │ -        │\n",
      "├────────────────────────────────────────────────────────┼──────────┼────────┼──────────┤\n",
      "│ Apple iPhone 11 (Black, 128 GB)                        │ Rs.69900 │ 4.7    │ -        │\n",
      "├────────────────────────────────────────────────────────┼──────────┼────────┼──────────┤\n",
      "│ Apple iPhone 7 (Rose Gold, 32 GB)                      │ Rs.27999 │ 4.5    │ -        │\n",
      "├────────────────────────────────────────────────────────┼──────────┼────────┼──────────┤\n",
      "│ Apple iPhone 8 (Space Grey, 64 GB)                     │ Rs.36999 │ 4.5    │ -        │\n",
      "├────────────────────────────────────────────────────────┼──────────┼────────┼──────────┤\n",
      "│ Apple iPhone 11 (White, 64 GB)                         │ Rs.64900 │ 4.7    │ -        │\n",
      "├────────────────────────────────────────────────────────┼──────────┼────────┼──────────┤\n",
      "│ Apple iPhone 11 (White, 128 GB)                        │ Rs.69900 │ 4.7    │ -        │\n",
      "├────────────────────────────────────────────────────────┼──────────┼────────┼──────────┤\n",
      "│ Apple iPhone 11 (Purple, 64 GB)                        │ Rs.64900 │ 4.7    │ -        │\n",
      "├────────────────────────────────────────────────────────┼──────────┼────────┼──────────┤\n",
      "│ Apple iPhone XR (White, 64 GB)                         │ Rs.49900 │ 4.6    │ -        │\n",
      "├────────────────────────────────────────────────────────┼──────────┼────────┼──────────┤\n",
      "│ Apple iPhone 11 (Red, 128 GB)                          │ Rs.69900 │ 4.7    │ -        │\n",
      "├────────────────────────────────────────────────────────┼──────────┼────────┼──────────┤\n",
      "│ Apple iPhone 11 (Black, 64 GB)                         │ Rs.64900 │ 4.7    │ -        │\n",
      "├────────────────────────────────────────────────────────┼──────────┼────────┼──────────┤\n",
      "│ Apple iPhone 8 (Gold, 64 GB)                           │ Rs.36999 │ 4.5    │ -        │\n",
      "├────────────────────────────────────────────────────────┼──────────┼────────┼──────────┤\n",
      "│ Binatone The Brick Power Edition / The Brick XL Phone) │ Rs.1860  │ 4.1    │ -        │\n",
      "├────────────────────────────────────────────────────────┼──────────┼────────┼──────────┤\n",
      "│ Apple iPhone 6s (Space Grey, 32 GB)                    │ Rs.23999 │ 4.5    │ -        │\n",
      "├────────────────────────────────────────────────────────┼──────────┼────────┼──────────┤\n",
      "│ Apple iPhone 8 (Silver, 64 GB)                         │ Rs.36999 │ 4.5    │ -        │\n",
      "├────────────────────────────────────────────────────────┼──────────┼────────┼──────────┤\n",
      "│ Apple iPhone XR ((PRODUCT)                             │ Rs.49900 │ 4.6    │ -        │\n",
      "├────────────────────────────────────────────────────────┼──────────┼────────┼──────────┤\n",
      "│ Apple iPhone XR (Blue, 64 GB)                          │ Rs.49900 │ 4.6    │ -        │\n",
      "├────────────────────────────────────────────────────────┼──────────┼────────┼──────────┤\n",
      "│ Apple iPhone 11 (Red, 64 GB)                           │ Rs.64900 │ 4.7    │ -        │\n",
      "├────────────────────────────────────────────────────────┼──────────┼────────┼──────────┤\n",
      "│ Apple iPhone XR (Coral, 64 GB)                         │ Rs.49900 │ 4.6    │ -        │\n",
      "├────────────────────────────────────────────────────────┼──────────┼────────┼──────────┤\n",
      "│ Apple iPhone 6s (Gold, 32 GB)                          │ Rs.24999 │ 4.5    │ -        │\n",
      "├────────────────────────────────────────────────────────┼──────────┼────────┼──────────┤\n",
      "│ Apple iPhone XR (Black, 128 GB)                        │ Rs.54900 │ 4.6    │ -        │\n",
      "├────────────────────────────────────────────────────────┼──────────┼────────┼──────────┤\n",
      "│ Apple iPhone XR (Black, 64 GB)                         │ Rs.49900 │ 4.6    │ -        │\n",
      "├────────────────────────────────────────────────────────┼──────────┼────────┼──────────┤\n",
      "│ Apple iPhone 11 Pro (Gold, 64 GB)                      │ Rs.99900 │ 4.7    │ -        │\n",
      "├────────────────────────────────────────────────────────┼──────────┼────────┼──────────┤\n",
      "│ Apple iPhone XS (Gold, 64 GB)                          │ Rs.64999 │ 4.6    │ -        │\n",
      "╘════════════════════════════════════════════════════════╧══════════╧════════╧══════════╛\n"
     ]
    }
   ],
   "source": [
    "mobile_list = [('Name','Price','Rating','Warranty')]\n",
    "for Mobile in mobiles:\n",
    "    name = Mobile.findAll('div',{'class':'_3wU53n'})\n",
    "    name = name[0].text\n",
    "    name = name.split(')')\n",
    "    final_name = name[0] + ')'\n",
    "\n",
    "    rating = Mobile.findAll('div',{'class':'hGSR34'})\n",
    "    if rating:\n",
    "        final_rating = rating[0].text\n",
    "    else:\n",
    "        final_rating = '-'\n",
    "    \n",
    "    price = Mobile.findAll('div',{'class':'_1vC4OE _2rQ-NK'})\n",
    "    if price:\n",
    "        price = price[0].text\n",
    "        price = price.replace(',','')\n",
    "        final_price = price.replace('₹','Rs.')\n",
    "    else:\n",
    "        final_price ='-'\n",
    "        \n",
    "    warranty = Mobile.find_all('div',{'class':'tVe95H'})\n",
    "    if warranty:\n",
    "        warranty = warranty[0].text\n",
    "    else:\n",
    "        final_warranty='-'\n",
    "\n",
    "\n",
    "#     print(final_name,final_rating,final_price)\n",
    "    mobile_list.append((final_name,final_price,final_rating,final_warranty))\n",
    "from tabulate import tabulate\n",
    "print(tabulate(mobile_list,tablefmt='fancy_grid'))"
   ]
  },
  {
   "cell_type": "code",
   "execution_count": null,
   "metadata": {},
   "outputs": [],
   "source": []
  }
 ],
 "metadata": {
  "kernelspec": {
   "display_name": "Python 3",
   "language": "python",
   "name": "python3"
  },
  "language_info": {
   "codemirror_mode": {
    "name": "ipython",
    "version": 3
   },
   "file_extension": ".py",
   "mimetype": "text/x-python",
   "name": "python",
   "nbconvert_exporter": "python",
   "pygments_lexer": "ipython3",
   "version": "3.7.4"
  }
 },
 "nbformat": 4,
 "nbformat_minor": 2
}
