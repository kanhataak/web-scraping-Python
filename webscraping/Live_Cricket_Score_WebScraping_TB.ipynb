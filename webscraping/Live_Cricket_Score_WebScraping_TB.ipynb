{
 "cells": [
  {
   "cell_type": "markdown",
   "metadata": {},
   "source": [
    "# Cricket Score"
   ]
  },
  {
   "cell_type": "code",
   "execution_count": 4,
   "metadata": {},
   "outputs": [],
   "source": [
    "import requests\n",
    "from bs4 import BeautifulSoup\n",
    "from urllib.request import urlopen"
   ]
  },
  {
   "cell_type": "code",
   "execution_count": 5,
   "metadata": {},
   "outputs": [],
   "source": [
    "cricket_url=\"https://www.cricbuzz.com/cricket-match/live-scores\""
   ]
  },
  {
   "cell_type": "code",
   "execution_count": 6,
   "metadata": {},
   "outputs": [],
   "source": [
    "req = requests.get(cricket_url)\n",
    "html_page=req.text\n",
    "# print(html_page)"
   ]
  },
  {
   "cell_type": "code",
   "execution_count": 7,
   "metadata": {},
   "outputs": [],
   "source": [
    "page_soup = BeautifulSoup(html_page,'html.parser')\n",
    "# print(page_soup)"
   ]
  },
  {
   "cell_type": "code",
   "execution_count": 8,
   "metadata": {},
   "outputs": [],
   "source": [
    "# url_req=urlopen(cricket_url)\n",
    "# html_content=url_request.read()\n",
    "# url_req.close()"
   ]
  },
  {
   "cell_type": "code",
   "execution_count": 9,
   "metadata": {},
   "outputs": [],
   "source": [
    "# htmlpage=urlopen('https://en.wikipedia.org/wiki/Hanumangarh')\n",
    "# # print(htmlpage.read())\n",
    "\n",
    "# name=page_soup.find_all('h3',{'class':'cb-lv-scr-mtch-hdr inline-block'})\n",
    "# print(name[0].text)"
   ]
  },
  {
   "cell_type": "code",
   "execution_count": 10,
   "metadata": {},
   "outputs": [],
   "source": [
    "# content_soup=BeautifulSoup(html_page,'html.parser')\n",
    "# print(content_soup)"
   ]
  },
  {
   "cell_type": "code",
   "execution_count": 11,
   "metadata": {},
   "outputs": [
    {
     "name": "stdout",
     "output_type": "stream",
     "text": [
      "9\n"
     ]
    }
   ],
   "source": [
    "matches=page_soup.findAll('div',{'class':\"cb-col cb-col-100 cb-lv-main\"})\n",
    "print(len(matches))"
   ]
  },
  {
   "cell_type": "code",
   "execution_count": 12,
   "metadata": {},
   "outputs": [],
   "source": [
    "# match=content_soup.findAll('h3',{'class':'cb-col cb-col-100 cb-lv-main'})\n",
    "# print(len(match))"
   ]
  },
  {
   "cell_type": "code",
   "execution_count": 14,
   "metadata": {},
   "outputs": [
    {
     "name": "stdout",
     "output_type": "stream",
     "text": [
      "╒═════════════════════════════════════════════╤═════════════════════════════════════════════════════╤═══════════════════════════════════════════════════════════════════════════════════╕\n",
      "│ Name                                        │ Score                                               │ Won                                                                               │\n",
      "├─────────────────────────────────────────────┼─────────────────────────────────────────────────────┼───────────────────────────────────────────────────────────────────────────────────┤\n",
      "│ Brisbane Heat vs Perth Scorchers,           │ BRH 109-all out (18.4 Ovs)  •  PRS 149/6 (20.0 Ovs) │ <div class=\"cb-lv-scrs-col cb-text-complete\">Perth Scorchers won by 40 runs</div> │\n",
      "├─────────────────────────────────────────────┼─────────────────────────────────────────────────────┼───────────────────────────────────────────────────────────────────────────────────┤\n",
      "│ Sydney Thunder vs Melbourne Stars,          │ -                                                   │                                                                                   │\n",
      "├─────────────────────────────────────────────┼─────────────────────────────────────────────────────┼───────────────────────────────────────────────────────────────────────────────────┤\n",
      "│ Melbourne Renegades vs Sydney Sixers,       │ -                                                   │                                                                                   │\n",
      "├─────────────────────────────────────────────┼─────────────────────────────────────────────────────┼───────────────────────────────────────────────────────────────────────────────────┤\n",
      "│ Northern Knights vs Wellington,             │ NK 162/5 (19.0 Ovs)  •  WEL 161/8 (20.0 Ovs)        │ <div class=\"cb-lv-scrs-col cb-text-complete\">Northern Knights won by 5 wkts</div> │\n",
      "├─────────────────────────────────────────────┼─────────────────────────────────────────────────────┼───────────────────────────────────────────────────────────────────────────────────┤\n",
      "│ Auckland vs Canterbury,                     │ AKL 195/3 (19.3 Ovs)  •  CAN 194/3 (20.0 Ovs)       │ <div class=\"cb-lv-scrs-col cb-text-complete\">Auckland won by 7 wkts</div>         │\n",
      "├─────────────────────────────────────────────┼─────────────────────────────────────────────────────┼───────────────────────────────────────────────────────────────────────────────────┤\n",
      "│ Central Districts vs Otago,                 │ -                                                   │                                                                                   │\n",
      "├─────────────────────────────────────────────┼─────────────────────────────────────────────────────┼───────────────────────────────────────────────────────────────────────────────────┤\n",
      "│ Rajshahi Royals vs Rangpur Rangers,         │ RSR 135/8 (20.0 Ovs)  •  RPR 182/6 (20.0 Ovs)       │ <div class=\"cb-lv-scrs-col cb-text-complete\">Rangpur Rangers won by 47 runs</div> │\n",
      "├─────────────────────────────────────────────┼─────────────────────────────────────────────────────┼───────────────────────────────────────────────────────────────────────────────────┤\n",
      "│ Chattogram Challengers vs Cumilla Warriors, │ CW 161/7 (20.0 Ovs)  •  CGC 159/6 (20.0 Ovs)        │ <div class=\"cb-lv-scrs-col cb-text-complete\">Cumilla Warriors won by 3 wkts</div> │\n",
      "├─────────────────────────────────────────────┼─────────────────────────────────────────────────────┼───────────────────────────────────────────────────────────────────────────────────┤\n",
      "│ Rajshahi Royals vs Rangpur Rangers,         │ -                                                   │                                                                                   │\n",
      "╘═════════════════════════════════════════════╧═════════════════════════════════════════════════════╧═══════════════════════════════════════════════════════════════════════════════════╛\n"
     ]
    }
   ],
   "source": [
    "lst=[(\"Name\",'Score','Won')]\n",
    "for match in matches:\n",
    "    name=match.find('h3')\n",
    "    name=name.text\n",
    "    \n",
    "    score=match.find('div',{'class':'cb-lv-scrs-col text-black'})\n",
    "    if score:\n",
    "        f_score=score.text\n",
    "    else:\n",
    "        f_score= '-'\n",
    "        \n",
    "    won=match.find('div',{'class':'cb-lv-scrs-col cb-text-complete'})\n",
    "    if won:\n",
    "        f_won=won.text\n",
    "    else:\n",
    "        f_won=\"-\"\n",
    "    lst.append((name,f_score,won))\n",
    "#     print(name,f_score,won)\n",
    "from tabulate import tabulate\n",
    "print(tabulate(lst,tablefmt='fancy_grid'))\n",
    "    "
   ]
  },
  {
   "cell_type": "code",
   "execution_count": 2,
   "metadata": {},
   "outputs": [],
   "source": [
    "from tkinter import *\n",
    "root=Tk()\n",
    "root.geometry(\"1000x800\")\n",
    "root.title(\"Cricket_Live_GUI\")\n",
    "root.maxsize()\n",
    "root.minsize()\n",
    "\n",
    "a=text()\n",
    "\n",
    "root.mainloop()"
   ]
  },
  {
   "cell_type": "code",
   "execution_count": null,
   "metadata": {},
   "outputs": [],
   "source": []
  }
 ],
 "metadata": {
  "kernelspec": {
   "display_name": "Python 3",
   "language": "python",
   "name": "python3"
  },
  "language_info": {
   "codemirror_mode": {
    "name": "ipython",
    "version": 3
   },
   "file_extension": ".py",
   "mimetype": "text/x-python",
   "name": "python",
   "nbconvert_exporter": "python",
   "pygments_lexer": "ipython3",
   "version": "3.7.4"
  }
 },
 "nbformat": 4,
 "nbformat_minor": 2
}
