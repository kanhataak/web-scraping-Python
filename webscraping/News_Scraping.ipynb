{
 "cells": [
  {
   "cell_type": "code",
   "execution_count": 1,
   "metadata": {},
   "outputs": [],
   "source": [
    "from bs4 import BeautifulSoup\n",
    "from urllib.request import urlopen"
   ]
  },
  {
   "cell_type": "code",
   "execution_count": 2,
   "metadata": {},
   "outputs": [],
   "source": [
    "# from tkinter import *\n",
    "# from time import sleep\n",
    "# x=0\n",
    "# root=Tk()\n",
    "\n",
    "# root.title(\"Happy New Year ! pcondemand.com\")\n",
    "# while x<90:\n",
    "#     x+=1\n",
    "#     label1= Label(root)\n",
    "#     label1['text']=2020\n",
    "#     label1['font']=('Times',x)\n",
    "#     label1.grid(row=0,column=0)\n",
    "#     root.update_idletasks()\n",
    "#     sleep(0.20)\n",
    "# root.mainloop()"
   ]
  },
  {
   "cell_type": "code",
   "execution_count": null,
   "metadata": {},
   "outputs": [],
   "source": [
    "news_url=\"https://timesofindia.indiatimes.com/news\"\n",
    "url_req=urlopen(news_url)\n",
    "html_page=url_req.read()\n",
    "url_req.close()"
   ]
  },
  {
   "cell_type": "code",
   "execution_count": null,
   "metadata": {},
   "outputs": [],
   "source": [
    "page_soup=BeautifulSoup(html_page,\"html.parser\")"
   ]
  },
  {
   "cell_type": "code",
   "execution_count": null,
   "metadata": {},
   "outputs": [],
   "source": [
    "T_News = page_soup.find_all('span',{'class':\"w_tle\"})\n",
    "print(len(T_News))"
   ]
  },
  {
   "cell_type": "code",
   "execution_count": null,
   "metadata": {},
   "outputs": [],
   "source": [
    "# NEWS=News[0]\n",
    "# print(NEWS)"
   ]
  },
  {
   "cell_type": "code",
   "execution_count": null,
   "metadata": {},
   "outputs": [],
   "source": [
    "news_headline=T_News[0].text\n",
    "print(news_headline)"
   ]
  },
  {
   "cell_type": "code",
   "execution_count": null,
   "metadata": {},
   "outputs": [],
   "source": [
    "from tabulate import tabulate\n",
    "l=[[\"Headings\"]]\n",
    "for news in T_News:\n",
    "    l.append([news.text])\n",
    "print(tabulate(l,tablefmt=\"fancy_grid\"))"
   ]
  },
  {
   "cell_type": "code",
   "execution_count": null,
   "metadata": {},
   "outputs": [],
   "source": [
    "from tkinter import *\n",
    "root=Tk()\n",
    "root.geometry(\"1000x800\")\n",
    "root.title(\"News_GUI\")\n",
    "\n",
    "scrollbar = Scrollbar(root) \n",
    "scrollbar.pack( side = RIGHT, fill = Y )\n",
    "\n",
    "add=Text(root,height=60,width=200,yscrollcommand = scrollbar.set)\n",
    "add.pack()\n",
    "scrollbar.config(command=add.yview)\n",
    "# add.grid(row=5,column=1,ipady=20)\n",
    "add.insert(END,tabulate(l,tablefmt=\"fancy_grid\"))\n",
    "add.config(state=DISABLED)\n",
    "root.mainloop()"
   ]
  },
  {
   "cell_type": "code",
   "execution_count": null,
   "metadata": {},
   "outputs": [],
   "source": [
    "# from tkinter import *\n",
    "# root = Tk() \n",
    "\n",
    "# root.geometry(\"800x600\")\n",
    "# root.title(\"News_GUI\")\n",
    "\n",
    "# scrollbar = Scrollbar(root) \n",
    "# scrollbar.pack( side = RIGHT, fill = Y ) \n",
    "# mylist = Listbox(root , yscrollcommand = scrollbar.set) \n",
    "# for line in range(100): \n",
    "#     mylist.insert(END, l + str(line)) \n",
    "# # mylist.pack( side = LEFT, fill = BOTH ) \n",
    "# scrollbar.config( command = mylist.yview )\n",
    "\n",
    "# add=Text(root,height=40,width=150)\n",
    "# add.grid(row=5,column=1,ipady=20)\n",
    "# add.insert(END,tabulate(l,tablefmt=\"fancy_grid\"))\n",
    "# add.config(state=DISABLED)\n",
    "\n",
    "# mainloop()"
   ]
  },
  {
   "cell_type": "code",
   "execution_count": null,
   "metadata": {},
   "outputs": [],
   "source": [
    "import socket, sys, threading, time\n",
    "from tkinter import *\n",
    "\n",
    "root = Tk()\n",
    "text1 = Text(root, height=50, width=150)\n",
    "scroll = Scrollbar(root, command=text1.yview, orient=VERTICAL )\n",
    "scroll.config(command=text1.yview)\n",
    "text1.configure(yscrollcommand=scroll.set)\n",
    "entry = Entry(root, width = 200)\n",
    "entry.pack(side = BOTTOM)\n",
    "text1.pack(side=LEFT,fill=BOTH, expand='YES')\n",
    "scroll.pack(side=RIGHT, fill=BOTH)\n",
    "\n",
    "root.resizable(TRUE,TRUE)\n",
    "root.mainloop()"
   ]
  },
  {
   "cell_type": "code",
   "execution_count": null,
   "metadata": {},
   "outputs": [],
   "source": []
  }
 ],
 "metadata": {
  "kernelspec": {
   "display_name": "Python 3",
   "language": "python",
   "name": "python3"
  },
  "language_info": {
   "codemirror_mode": {
    "name": "ipython",
    "version": 3
   },
   "file_extension": ".py",
   "mimetype": "text/x-python",
   "name": "python",
   "nbconvert_exporter": "python",
   "pygments_lexer": "ipython3",
   "version": "3.7.4"
  }
 },
 "nbformat": 4,
 "nbformat_minor": 2
}
