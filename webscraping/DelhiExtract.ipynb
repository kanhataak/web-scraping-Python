{
 "cells": [
  {
   "cell_type": "code",
   "execution_count": 39,
   "metadata": {},
   "outputs": [],
   "source": [
    "from bs4 import BeautifulSoup\n",
    "from urllib.request import urlopen"
   ]
  },
  {
   "cell_type": "code",
   "execution_count": 40,
   "metadata": {},
   "outputs": [],
   "source": [
    "url=\"http://www.delhihelp.com/5-Star-Hotels-in-Delhi-article-category-10.aspx\""
   ]
  },
  {
   "cell_type": "code",
   "execution_count": 41,
   "metadata": {},
   "outputs": [],
   "source": [
    "Request_url=urlopen(url)\n",
    "html_page=Request_url.read()\n",
    "Request_url.close()"
   ]
  },
  {
   "cell_type": "code",
   "execution_count": 42,
   "metadata": {},
   "outputs": [],
   "source": [
    "page_soup=BeautifulSoup(html_page,\"html.parser\")"
   ]
  },
  {
   "cell_type": "code",
   "execution_count": 48,
   "metadata": {},
   "outputs": [
    {
     "name": "stdout",
     "output_type": "stream",
     "text": [
      "1\n"
     ]
    }
   ],
   "source": [
    "hotels=page_soup.find_all('span',{'id':'ctl00_ContentPlaceHolder1_ListView1_ctrl0_lblArticleBrief'})\n",
    "print(len(hotels))"
   ]
  },
  {
   "cell_type": "code",
   "execution_count": 49,
   "metadata": {},
   "outputs": [
    {
     "name": "stdout",
     "output_type": "stream",
     "text": [
      "EROS HOTEL NEW DELHI, NEHRU PLACE with its Close in proximity to the business hub, Nehru place and Okhla. It resides very close to bahai temple , resides in the poshest environment of the capital. So if you want state-of-the-art luxuries, this is the plac\n"
     ]
    }
   ],
   "source": [
    "hotel=hotels[0].text\n",
    "print(hotel)"
   ]
  },
  {
   "cell_type": "code",
   "execution_count": 57,
   "metadata": {},
   "outputs": [
    {
     "name": "stdout",
     "output_type": "stream",
     "text": [
      " Menu\n",
      "About Us\n",
      "Join Free\n",
      "Advertise\n",
      "Investors\n",
      "Career\n",
      "Contact Us\n",
      "\n",
      "\n",
      "\n",
      "\n",
      "\n",
      " Latest Articles\n",
      "About Delhi\n",
      "Delhi Tourism\n",
      "5 Star Hotels in Delhi\n",
      "Temples in Delhi\n",
      "Health & Fitness\n",
      "Education in Delhi/NCR\n",
      "Common Wealth Games News\n",
      "Useful Government Forms\n",
      "Parks & Gardens\n",
      "24x7 City Services\n",
      "List of MPs-MLAs\n",
      "Delhi's Past Perfect\n",
      "Picnic Spots in Delhi\n",
      "Travel in Delhi NCR\n",
      "Masjid in Delhi\n",
      "WEBMASTER'S CORNER\n",
      "Eating out in Delhi\n",
      "Delhi's NightLife\n",
      "Real Estates in Delhi-NCR\n",
      "Delhi Wholesale Markets\n",
      "Post Offices in Delhi NCR\n",
      "Sports in Delhi NCR\n",
      "\n",
      "Delhi\n",
      "forts\n",
      "shopping hubs\n",
      "The Five Star Hotels in New Delhi\n",
      "cuisine\n",
      "health clubs\n",
      "\n",
      "The Eros Hotel Nehru Place New Delhi \n",
      "\n",
      "The Park Hotel \n",
      "\n",
      "Hotel Grand New Delhi\n",
      "\n",
      "Uppal's Orchid Hotel Delhi \n",
      "\n",
      "Intercontinental Hotel in New Delhi\n",
      "\n",
      "Hotel Hyatt Regency New Delhi\n",
      "\n",
      "Taj Palace Hotel\n",
      "\n",
      "Hotel Oberoi New Delhi \n",
      "\n",
      "Hotel Radisson New Delhi\n",
      "\n",
      "Hotel Taj Ambassador New Delhi\n",
      "\n",
      "Jaypee Vasant Continental New Delhi \n",
      "\n",
      "Marriott Welcome Hotel New Delhi \n",
      "\n",
      "Aman Resort New Delhi \n",
      "\n",
      "The Metropolitan Hotel New Delhi \n",
      "\n",
      "Centaur Hotel New Delhi \n",
      "2\n",
      "could be plz confirm tht if RWA is already their which i'm living (R2/25A) Mohan Garden, ND-59 .or not.\n",
      "i want a room in  Delhi...can anyone tell me which are the good places/areas to live in Delhi....keeping in a mind student budget....also help me for PG ...Thank u...\n",
      "hi i am santosh from hyderabad i want made up lycra jeans in low rate 300 Only plz call me 09966883088\n",
      "\r\n",
      "                   Explore all questions ›  \r\n",
      "                             ›\r\n",
      "         906 \n",
      "\n",
      "\n",
      "\n",
      "India\n",
      "\n",
      "13\n",
      "o\n",
      "\n",
      "\n",
      "Showers\n",
      "\n",
      "\n",
      "\n",
      "\n",
      "20\n",
      "o\n",
      "\n",
      "9\n",
      "o\n",
      "\n",
      "\n",
      "\n",
      "\n",
      "Weather Update\n",
      "\n",
      "\n",
      "\n",
      "Currency Convertor \n",
      "\n",
      "\n",
      "Metro Fare Calculator\n",
      "\n",
      "\n",
      "Eat Out\n",
      "\n",
      "\n",
      "Traffic Updates\n",
      "\n",
      "\n",
      "DTC Bus Routes\n",
      "\n",
      "\n",
      "Healthy Fitness Food\n",
      "\n",
      "\n",
      "Fun Zone\n",
      "\n",
      "\n",
      "Education & Learning\n",
      "About us\n",
      "Join Free\n",
      "Advertise with us\n",
      "Investors\n",
      "Careers\n",
      "Testimonials\n",
      " E-magazine\n",
      "Disclaimer\n",
      "Terms of Use\n",
      "Privacy Policy\n",
      "Feedback/Complaints\n",
      "Help\n",
      "Sitemap\n",
      "Cheap Hotel in Delhi NCR\n",
      "Best Hotels in Delhi–NCR\n",
      "Budget Hotels in Delhi, NCR\n",
      "Hotels in Delhi NCR\n",
      "List of 5 Star Hotels in Delhi-NCR\n",
      "New Delhi Tourist Attractions\n",
      "3 Star Hotels in Delhi NCR\n",
      "Book Hotel in Delhi, NCR \n",
      "v2Web\n"
     ]
    }
   ],
   "source": [
    "# name = hotel.findAll('a',{'id':'ctl00_ContentPlaceHolder1_ListView1_ctrl0_hlArticleTitle'})\n",
    "# print(len(name))\n",
    "# print(name[0].text)\n",
    "page_soup = BeautifulSoup(html_page,'html.parser')\n",
    "for tag in page_soup.find_all('a'):\n",
    "    print (tag.text)"
   ]
  },
  {
   "cell_type": "code",
   "execution_count": 21,
   "metadata": {},
   "outputs": [],
   "source": [
    "# ! pip install tweepy"
   ]
  },
  {
   "cell_type": "code",
   "execution_count": 22,
   "metadata": {},
   "outputs": [],
   "source": [
    "# ! python -m pip install --upgrade pip"
   ]
  },
  {
   "cell_type": "code",
   "execution_count": 8,
   "metadata": {},
   "outputs": [],
   "source": [
    "import json\n",
    "import csv\n",
    "import tweepy\n",
    "import re"
   ]
  },
  {
   "cell_type": "code",
   "execution_count": 9,
   "metadata": {},
   "outputs": [],
   "source": [
    "\"\"\"\n",
    "INPUTS:\n",
    "    consumer_key, consumer_secret, access_token, access_token_secret: codes \n",
    "    telling twitter that we are authorized to access this data\n",
    "    hashtag_phrase: the combination of hashtags to search for\n",
    "OUTPUTS:\n",
    "    none, simply save the tweet info to a spreadsheet\n",
    "\"\"\"\n",
    "def search_for_hashtags(consumer_key, consumer_secret, access_token, access_token_secret, hashtag_phrase):\n",
    "    \n",
    "    #create authentication for accessing Twitter\n",
    "    auth = tweepy.OAuthHandler(consumer_key, consumer_secret)\n",
    "    auth.set_access_token(access_token, access_token_secret)\n",
    "\n",
    "    #initialize Tweepy API\n",
    "    api = tweepy.API(auth)\n",
    "    \n",
    "    #get the name of the spreadsheet we will write to\n",
    "    fname = '_'.join(re.findall(r\"#(\\w+)\", hashtag_phrase))\n",
    "\n",
    "    #open the spreadsheet we will write to\n",
    "    with open('%s.csv' % (fname), 'wb') as file:\n",
    "\n",
    "        w = csv.writer(file)\n",
    "\n",
    "        #write header row to spreadsheet\n",
    "        w.writerow(['timestamp', 'tweet_text', 'username', 'all_hashtags', 'followers_count'])\n",
    "\n",
    "        #for each tweet matching our hashtags, write relevant info to the spreadsheet\n",
    "        for tweet in tweepy.Cursor(api.search, q=hashtag_phrase+' -filter:retweets', \\\n",
    "                                   lang=\"en\", tweet_mode='extended').items(100):\n",
    "            w.writerow([tweet.created_at, tweet.full_text.replace('\\n',' ').encode('utf-8'), tweet.user.screen_name.encode('utf-8'), [e['text'] for e in tweet._json['entities']['hashtags']], tweet.user.followers_count])"
   ]
  },
  {
   "cell_type": "code",
   "execution_count": null,
   "metadata": {},
   "outputs": [],
   "source": [
    "consumer_key = raw_input('Consumer Key ')\n",
    "consumer_secret = raw_input('Consumer Secret ')\n",
    "access_token = raw_input('Access Token ')\n",
    "access_token_secret = raw_input('Access Token Secret ')\n",
    "    \n",
    "hashtag_phrase = raw_input('Hashtag Phrase ')\n",
    "\n",
    "if __name__ == '__main__':\n",
    "    search_for_hashtags(consumer_key, consumer_secret, access_token, access_token_secret, hashtag_phrase)\n"
   ]
  }
 ],
 "metadata": {
  "kernelspec": {
   "display_name": "Python 3",
   "language": "python",
   "name": "python3"
  },
  "language_info": {
   "codemirror_mode": {
    "name": "ipython",
    "version": 3
   },
   "file_extension": ".py",
   "mimetype": "text/x-python",
   "name": "python",
   "nbconvert_exporter": "python",
   "pygments_lexer": "ipython3",
   "version": "3.7.4"
  }
 },
 "nbformat": 4,
 "nbformat_minor": 2
}
