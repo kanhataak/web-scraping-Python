{
 "cells": [
  {
   "cell_type": "code",
   "execution_count": 1,
   "metadata": {},
   "outputs": [],
   "source": [
    "# Install any module in jupyter using below command\n",
    "# import sys\n",
    "# !{sys.executable} -m pip install tabulate"
   ]
  },
  {
   "cell_type": "markdown",
   "metadata": {},
   "source": [
    "## Webscraping\n",
    "\n",
    "Modules :\n",
    "* bs4 -> BeautifulSoup\n",
    "* urllib.request -> urlopen"
   ]
  },
  {
   "cell_type": "code",
   "execution_count": 2,
   "metadata": {},
   "outputs": [],
   "source": [
    "# Pre-requisites:\n",
    "# Python 2.x or Python 3.x with Selenium, BeautifulSoup, pandas libraries installed\n",
    "# Google-chrome browser\n",
    "\n",
    "from bs4 import BeautifulSoup\n",
    "from urllib.request import urlopen"
   ]
  },
  {
   "cell_type": "code",
   "execution_count": 3,
   "metadata": {},
   "outputs": [],
   "source": [
    "# Step 1: Find the URL that you want to scrape\n",
    "# we are going scrape Flipkart website to extract the Price, Name, and Rating of Apple mobiles.\n",
    "\n",
    "honor_url=\"https://bit.ly/2rXv5fz\"  # The URL for this page is"
   ]
  },
  {
   "cell_type": "code",
   "execution_count": 4,
   "metadata": {},
   "outputs": [],
   "source": [
    "url_req = urlopen(honor_url)\n",
    "html_page = url_req.read()\n",
    "url_req.close()"
   ]
  },
  {
   "cell_type": "code",
   "execution_count": 5,
   "metadata": {},
   "outputs": [],
   "source": [
    "# print(html_page)\n",
    "# print(type(html_page))"
   ]
  },
  {
   "cell_type": "code",
   "execution_count": 6,
   "metadata": {},
   "outputs": [],
   "source": [
    "# this code is display page proper format\n",
    "page_soup = BeautifulSoup(html_page,\"html.parser\")"
   ]
  },
  {
   "cell_type": "code",
   "execution_count": 7,
   "metadata": {},
   "outputs": [],
   "source": [
    "# print(page_soup)"
   ]
  },
  {
   "cell_type": "code",
   "execution_count": 8,
   "metadata": {},
   "outputs": [
    {
     "name": "stdout",
     "output_type": "stream",
     "text": [
      "24\n"
     ]
    }
   ],
   "source": [
    "# Step 3: Find the data you want to extract\n",
    "# Let’s extract the Price, Name, and Rating which is nested in the “div” tag respectively.\n",
    "\n",
    "mobiles = page_soup.find_all('div',{'class':'_3O0U0u'})\n",
    "print(len(mobiles))"
   ]
  },
  {
   "cell_type": "code",
   "execution_count": 14,
   "metadata": {},
   "outputs": [
    {
     "name": "stdout",
     "output_type": "stream",
     "text": [
      "Add to CompareHonor 8C (Black, 64 GB)4.327,520 Ratings & 2,567 Reviews4 GB RAM | 64 GB ROM | Expandable Upto 256 GB15.9 cm (6.26 inch) HD+ Display13MP + 2MP | 8MP Front Camera4000 mAh BatteryQualcomm Snapdragon 632 Processor1 year manufacturer warranty for device and 6 months manufacturer warranty for in-box accessories including batteries and 3 months for Data/USB cable from the date of purchase₹7,999₹14,99946% offNo Cost EMIUpto ₹7,700 Off on Exchange\n"
     ]
    }
   ],
   "source": [
    "Mobile = mobiles[0].text\n",
    "print(Mobile)"
   ]
  },
  {
   "cell_type": "code",
   "execution_count": 10,
   "metadata": {},
   "outputs": [
    {
     "name": "stdout",
     "output_type": "stream",
     "text": [
      "Honor 8C (Black, 64 GB)\n"
     ]
    }
   ],
   "source": [
    "name = Mobile.find_all(\"div\",{'class':'_3wU53n'})\n",
    "# print(name)\n",
    "print(name[0].text)\n",
    "# print(name)\n",
    "# name = name.text\n",
    "# # print(name)\n",
    "\n",
    "# name = name.split(')')\n",
    "# name = name[0] + ')'\n",
    "# print(name)"
   ]
  },
  {
   "cell_type": "code",
   "execution_count": 11,
   "metadata": {},
   "outputs": [
    {
     "name": "stdout",
     "output_type": "stream",
     "text": [
      "₹7,999\n"
     ]
    }
   ],
   "source": [
    "price = Mobile.findAll('div',{'class':'_1vC4OE _2rQ-NK'})\n",
    "print(price[0].text)"
   ]
  },
  {
   "cell_type": "code",
   "execution_count": 12,
   "metadata": {},
   "outputs": [
    {
     "name": "stdout",
     "output_type": "stream",
     "text": [
      "4.3\n"
     ]
    }
   ],
   "source": [
    "rating = Mobile.find_all('div',{'class':'hGSR34'})\n",
    "print(rating[0].text)"
   ]
  },
  {
   "cell_type": "code",
   "execution_count": 13,
   "metadata": {},
   "outputs": [
    {
     "name": "stdout",
     "output_type": "stream",
     "text": [
      "╒═══════════════════════════════════════╤═══════╤════════╕\n",
      "│ Name                                  │ Price │ Rating │\n",
      "├───────────────────────────────────────┼───────┼────────┤\n",
      "│ Honor 8C (Black, 64 GB)               │ 7999  │ 4.3    │\n",
      "├───────────────────────────────────────┼───────┼────────┤\n",
      "│ Honor 8C (Black, 32 GB)               │ 7999  │ 4.3    │\n",
      "├───────────────────────────────────────┼───────┼────────┤\n",
      "│ Honor 8C (Blue, 64 GB)                │ 7999  │ 4.3    │\n",
      "├───────────────────────────────────────┼───────┼────────┤\n",
      "│ Honor 20i (Midnight Black, 128 GB)    │ 10999 │ 4.3    │\n",
      "├───────────────────────────────────────┼───────┼────────┤\n",
      "│ Honor 20i (Phantom Blue, 128 GB)      │ 10999 │ 4.3    │\n",
      "├───────────────────────────────────────┼───────┼────────┤\n",
      "│ Honor 10 Lite (Midnight Black, 32 GB) │ 8499  │ 4.3    │\n",
      "├───────────────────────────────────────┼───────┼────────┤\n",
      "│ Honor 9N (Sapphire Blue, 32 GB)       │ 7999  │ 4.4    │\n",
      "├───────────────────────────────────────┼───────┼────────┤\n",
      "│ Honor 9N (Midnight Black, 128 GB)     │ 9999  │ 4.3    │\n",
      "├───────────────────────────────────────┼───────┼────────┤\n",
      "│ Honor 10 Lite (Sapphire Blue, 64 GB)  │ 10999 │ 4.4    │\n",
      "├───────────────────────────────────────┼───────┼────────┤\n",
      "│ Honor 10 Lite (Sapphire Blue, 64 GB)  │ 11499 │ 4.4    │\n",
      "├───────────────────────────────────────┼───────┼────────┤\n",
      "│ Honor 10 Lite (Sapphire Blue, 32 GB)  │ 8499  │ 4.3    │\n",
      "├───────────────────────────────────────┼───────┼────────┤\n",
      "│ Honor 9N (Midnight Black, 64 GB)      │ 8499  │ 4.3    │\n",
      "├───────────────────────────────────────┼───────┼────────┤\n",
      "│ Honor 9N (Purple, 64 GB)              │ 8499  │ 4.3    │\n",
      "├───────────────────────────────────────┼───────┼────────┤\n",
      "│ Honor 9N (Sapphire Blue, 128 GB)      │ 9999  │ 4.3    │\n",
      "├───────────────────────────────────────┼───────┼────────┤\n",
      "│ Honor 9i (Aurora Blue, 64 GB)         │ 7999  │ 4.3    │\n",
      "├───────────────────────────────────────┼───────┼────────┤\n",
      "│ Honor 8X (Blue, 128 GB)               │ 15999 │ 4.4    │\n",
      "├───────────────────────────────────────┼───────┼────────┤\n",
      "│ Honor 8X (Black, 128 GB)              │ 15999 │ 4.4    │\n",
      "├───────────────────────────────────────┼───────┼────────┤\n",
      "│ Honor 8X (Blue, 64 GB)                │ 12999 │ 4.4    │\n",
      "├───────────────────────────────────────┼───────┼────────┤\n",
      "│ Honor 8X (Blue, 64 GB)                │ 9999  │ 4.4    │\n",
      "├───────────────────────────────────────┼───────┼────────┤\n",
      "│ Honor 20 (Sapphire Blue, 128 GB)      │ 24999 │ 4.4    │\n",
      "├───────────────────────────────────────┼───────┼────────┤\n",
      "│ Honor 7A (Blue, 32 GB)                │ 7999  │ 4.3    │\n",
      "├───────────────────────────────────────┼───────┼────────┤\n",
      "│ Honor 6 Plus (Black, 32 GB)           │ 26499 │ 3.9    │\n",
      "├───────────────────────────────────────┼───────┼────────┤\n",
      "│ Honor 20 (Midnight Black, 128 GB)     │ 24999 │ 4.4    │\n",
      "├───────────────────────────────────────┼───────┼────────┤\n",
      "│ Honor 8)                              │ 29999 │ 4.4    │\n",
      "╘═══════════════════════════════════════╧═══════╧════════╛\n"
     ]
    }
   ],
   "source": [
    "mobile_list = [('Name','Price','Rating')]\n",
    "for Mobile in mobiles:\n",
    "    name = Mobile.findAll('div',{'class':'_3wU53n'})\n",
    "    name = name[0].text\n",
    "    name = name.split(')')\n",
    "    final_name = name[0] + ')'\n",
    "\n",
    "    rating = Mobile.findAll('div',{'class':'hGSR34'})\n",
    "    if rating:\n",
    "        final_rating = rating[0].text\n",
    "    else:\n",
    "        final_rating = '-'\n",
    "    \n",
    "    price = Mobile.findAll('div',{'class':'_1vC4OE _2rQ-NK'})\n",
    "    if price:\n",
    "        price = price[0].text\n",
    "        price = price.replace(',','')\n",
    "        final_price = price.replace('₹','')\n",
    "    else:\n",
    "        final_price ='-'\n",
    "\n",
    "#     print(final_name,final_rating,final_price)\n",
    "    mobile_list.append((final_name,final_price,final_rating))\n",
    "from tabulate import tabulate\n",
    "print(tabulate(mobile_list,tablefmt='fancy_grid'))"
   ]
  },
  {
   "cell_type": "code",
   "execution_count": null,
   "metadata": {},
   "outputs": [],
   "source": []
  }
 ],
 "metadata": {
  "kernelspec": {
   "display_name": "Python 3",
   "language": "python",
   "name": "python3"
  },
  "language_info": {
   "codemirror_mode": {
    "name": "ipython",
    "version": 3
   },
   "file_extension": ".py",
   "mimetype": "text/x-python",
   "name": "python",
   "nbconvert_exporter": "python",
   "pygments_lexer": "ipython3",
   "version": "3.7.4"
  }
 },
 "nbformat": 4,
 "nbformat_minor": 2
}
